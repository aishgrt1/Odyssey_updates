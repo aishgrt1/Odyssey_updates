{
 "cells": [
  {
   "cell_type": "code",
   "execution_count": 1,
   "metadata": {},
   "outputs": [],
   "source": [
    "from odyssey.core.bigquery.BigQueryGithubEntry import *\n",
    "from odyssey.core.bigquery.GithubPython import GithubPython\n",
    "from odyssey.core.analyzer import InstantiationAnalyzer\n",
    "from odyssey.core.analyzer import ImportAnalyzer\n",
    "import matplotlib.pyplot as plt\n",
    "import numpy as np\n",
    "from nbconvert import PythonExporter\n",
    "import pandas as pd\n",
    "import pickle\n",
    "import ast\n",
    "import jedi\n",
    "\n",
    "import csv\n",
    "from tqdm import tqdm\n",
    "import warnings\n",
    "warnings.filterwarnings('ignore')"
   ]
  },
  {
   "cell_type": "markdown",
   "metadata": {},
   "source": [
    "## Analysing make_pipeline using jedi parser"
   ]
  },
  {
   "cell_type": "code",
   "execution_count": 2,
   "metadata": {},
   "outputs": [],
   "source": [
    "source = '''from sklearn.pipeline import make_pipeline\n",
    "from sklearn.preprocessing import FunctionTransformer\n",
    "from sklearn.linear_model import LinearRegression\n",
    "\n",
    "def just_RM_column(X):\n",
    "RM_col_index = 5\n",
    "return X[:, [RM_col_index]]\n",
    "\n",
    "pipe = make_pipeline(\n",
    "FunctionTransformer(just_RM_column),\n",
    "LinearRegression()\n",
    ")\n",
    "def add_squared_col(X):\n",
    "return np.hstack((X, X**2))\n",
    "\n",
    "pipe = make_pipeline(\n",
    "FunctionTransformer(just_RM_column),\n",
    "FunctionTransformer(add_squared_col),\n",
    "LinearRegression()\n",
    ")\n",
    "'''\n",
    "\n",
    "source_df = pd.DataFrame(columns=['Description','Package/Module', 'Usage'])"
   ]
  },
  {
   "cell_type": "code",
   "execution_count": 39,
   "metadata": {},
   "outputs": [],
   "source": [
    "for pos in range(1, len(source.splitlines())):\n",
    "    \n",
    "    try:\n",
    "    \n",
    "        script = jedi.Script(source,pos)\n",
    "        d = script.goto_definitions()[0]\n",
    "\n",
    "        temp_df = pd.DataFrame([[d.description,d.full_name, source.splitlines()[pos-1]]], columns=['Description','Package/Module', 'Usage'])\n",
    "        source_df = source_df.append(temp_df, ignore_index=True)\n",
    "    except:\n",
    "        continue\n",
    "\n",
    "  \n",
    "        "
   ]
  },
  {
   "cell_type": "code",
   "execution_count": 40,
   "metadata": {},
   "outputs": [
    {
     "data": {
      "text/html": [
       "<div>\n",
       "<style scoped>\n",
       "    .dataframe tbody tr th:only-of-type {\n",
       "        vertical-align: middle;\n",
       "    }\n",
       "\n",
       "    .dataframe tbody tr th {\n",
       "        vertical-align: top;\n",
       "    }\n",
       "\n",
       "    .dataframe thead th {\n",
       "        text-align: right;\n",
       "    }\n",
       "</style>\n",
       "<table border=\"1\" class=\"dataframe\">\n",
       "  <thead>\n",
       "    <tr style=\"text-align: right;\">\n",
       "      <th></th>\n",
       "      <th>Description</th>\n",
       "      <th>Package/Module</th>\n",
       "      <th>Usage</th>\n",
       "    </tr>\n",
       "  </thead>\n",
       "  <tbody>\n",
       "    <tr>\n",
       "      <th>0</th>\n",
       "      <td>def make_pipeline</td>\n",
       "      <td>sklearn.pipeline.make_pipeline</td>\n",
       "      <td>from sklearn.pipeline import make_pipeline</td>\n",
       "    </tr>\n",
       "    <tr>\n",
       "      <th>1</th>\n",
       "      <td>class FunctionTransformer</td>\n",
       "      <td>sklearn.preprocessing._function_transformer.Fu...</td>\n",
       "      <td>from sklearn.preprocessing import FunctionTran...</td>\n",
       "    </tr>\n",
       "    <tr>\n",
       "      <th>2</th>\n",
       "      <td>class LinearRegression</td>\n",
       "      <td>sklearn.linear_model.base.LinearRegression</td>\n",
       "      <td>from sklearn.linear_model import LinearRegression</td>\n",
       "    </tr>\n",
       "    <tr>\n",
       "      <th>3</th>\n",
       "      <td>instance int</td>\n",
       "      <td>int</td>\n",
       "      <td>RM_col_index = 5</td>\n",
       "    </tr>\n",
       "    <tr>\n",
       "      <th>4</th>\n",
       "      <td>instance Pipeline</td>\n",
       "      <td>sklearn.pipeline.Pipeline</td>\n",
       "      <td>pipe = make_pipeline(</td>\n",
       "    </tr>\n",
       "    <tr>\n",
       "      <th>5</th>\n",
       "      <td>instance LinearRegression</td>\n",
       "      <td>sklearn.linear_model.base.LinearRegression</td>\n",
       "      <td>LinearRegression()</td>\n",
       "    </tr>\n",
       "    <tr>\n",
       "      <th>6</th>\n",
       "      <td>instance Pipeline</td>\n",
       "      <td>sklearn.pipeline.Pipeline</td>\n",
       "      <td>)</td>\n",
       "    </tr>\n",
       "    <tr>\n",
       "      <th>7</th>\n",
       "      <td>instance Pipeline</td>\n",
       "      <td>sklearn.pipeline.Pipeline</td>\n",
       "      <td>pipe = make_pipeline(</td>\n",
       "    </tr>\n",
       "    <tr>\n",
       "      <th>8</th>\n",
       "      <td>instance LinearRegression</td>\n",
       "      <td>sklearn.linear_model.base.LinearRegression</td>\n",
       "      <td>LinearRegression()</td>\n",
       "    </tr>\n",
       "  </tbody>\n",
       "</table>\n",
       "</div>"
      ],
      "text/plain": [
       "                 Description  \\\n",
       "0          def make_pipeline   \n",
       "1  class FunctionTransformer   \n",
       "2     class LinearRegression   \n",
       "3               instance int   \n",
       "4          instance Pipeline   \n",
       "5  instance LinearRegression   \n",
       "6          instance Pipeline   \n",
       "7          instance Pipeline   \n",
       "8  instance LinearRegression   \n",
       "\n",
       "                                      Package/Module  \\\n",
       "0                     sklearn.pipeline.make_pipeline   \n",
       "1  sklearn.preprocessing._function_transformer.Fu...   \n",
       "2         sklearn.linear_model.base.LinearRegression   \n",
       "3                                                int   \n",
       "4                          sklearn.pipeline.Pipeline   \n",
       "5         sklearn.linear_model.base.LinearRegression   \n",
       "6                          sklearn.pipeline.Pipeline   \n",
       "7                          sklearn.pipeline.Pipeline   \n",
       "8         sklearn.linear_model.base.LinearRegression   \n",
       "\n",
       "                                               Usage  \n",
       "0         from sklearn.pipeline import make_pipeline  \n",
       "1  from sklearn.preprocessing import FunctionTran...  \n",
       "2  from sklearn.linear_model import LinearRegression  \n",
       "3                                   RM_col_index = 5  \n",
       "4                              pipe = make_pipeline(  \n",
       "5                                 LinearRegression()  \n",
       "6                                                  )  \n",
       "7                              pipe = make_pipeline(  \n",
       "8                                 LinearRegression()  "
      ]
     },
     "execution_count": 40,
     "metadata": {},
     "output_type": "execute_result"
    }
   ],
   "source": [
    "source_df"
   ]
  },
  {
   "cell_type": "markdown",
   "metadata": {},
   "source": [
    "## Analysing make_pipeline with InstantiationAnalyser"
   ]
  },
  {
   "cell_type": "code",
   "execution_count": 13,
   "metadata": {},
   "outputs": [],
   "source": [
    "analyzer= InstantiationAnalyzer(\"make_pipeline\")\n",
    "analyzer.parse(source)"
   ]
  },
  {
   "cell_type": "code",
   "execution_count": 12,
   "metadata": {},
   "outputs": [
    {
     "data": {
      "text/plain": [
       "dict_keys([])"
      ]
     },
     "execution_count": 12,
     "metadata": {},
     "output_type": "execute_result"
    }
   ],
   "source": [
    "analyzer.d.keys()"
   ]
  },
  {
   "cell_type": "code",
   "execution_count": null,
   "metadata": {},
   "outputs": [],
   "source": []
  }
 ],
 "metadata": {
  "kernelspec": {
   "display_name": "Python 3",
   "language": "python",
   "name": "python3"
  },
  "language_info": {
   "codemirror_mode": {
    "name": "ipython",
    "version": 3
   },
   "file_extension": ".py",
   "mimetype": "text/x-python",
   "name": "python",
   "nbconvert_exporter": "python",
   "pygments_lexer": "ipython3",
   "version": "3.5.5"
  }
 },
 "nbformat": 4,
 "nbformat_minor": 2
}
